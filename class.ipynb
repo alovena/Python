{
 "cells": [
  {
   "cell_type": "code",
   "execution_count": 37,
   "metadata": {},
   "outputs": [],
   "source": [
    "class Game:\n",
    "    hp=100\n",
    "    mp=50\n",
    "    name=\"드래곤\"\n",
    "    S_hp=int()\n",
    "    S_mp=int()\n",
    "    def attack(self):\n",
    "        print(\"체력 :\",self.hp)\n",
    "        print(\"엠피 :\",self.mp)\n",
    "        print(\"이름:\",self.name)\n",
    "    def depend():\n",
    "        print(\"체력 :\")\n",
    "        print(\"엠피 :\")\n",
    "        print(\"이름:방어시작\")\n",
    "class Foo:\n",
    "    def func1(self):\n",
    "        print(\"첫 함수\")\n",
    "        \n",
    "    def func2(self):\n",
    "        print(\"두번째 함수\")\n",
    "        \n",
    "    def func3():\n",
    "        print(\"세번째 함수\")"
   ]
  },
  {
   "cell_type": "code",
   "execution_count": 38,
   "metadata": {},
   "outputs": [
    {
     "name": "stdout",
     "output_type": "stream",
     "text": [
      "체력 : 100\n",
      "엠피 : 50\n",
      "이름: 드래곤\n"
     ]
    }
   ],
   "source": [
    "g1=Game()\n",
    "g1.attack()"
   ]
  },
  {
   "cell_type": "code",
   "execution_count": 50,
   "metadata": {},
   "outputs": [
    {
     "name": "stdout",
     "output_type": "stream",
     "text": [
      "첫 함수\n",
      "세번째 함수\n",
      "두번째 함수\n",
      "None\n"
     ]
    }
   ],
   "source": [
    "f1=Foo()\n",
    "f1.func1()\n",
    "Foo.func3()\n",
    "#print(\"주소값\",id(f1))\n",
    "print(Foo.func2(f1))"
   ]
  },
  {
   "cell_type": "code",
   "execution_count": null,
   "metadata": {},
   "outputs": [],
   "source": []
  }
 ],
 "metadata": {
  "kernelspec": {
   "display_name": "Python 3",
   "language": "python",
   "name": "python3"
  },
  "language_info": {
   "codemirror_mode": {
    "name": "ipython",
    "version": 3
   },
   "file_extension": ".py",
   "mimetype": "text/x-python",
   "name": "python",
   "nbconvert_exporter": "python",
   "pygments_lexer": "ipython3",
   "version": "3.6.5"
  }
 },
 "nbformat": 4,
 "nbformat_minor": 2
}
