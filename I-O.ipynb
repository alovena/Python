{
 "cells": [
  {
   "cell_type": "code",
   "execution_count": 5,
   "metadata": {},
   "outputs": [],
   "source": [
    "f=open(\"file1.txt\",\"w\")\n",
    "#현재 실행중인 디렉토리에 파일이 만들어짐.!\n",
    "f1=open(\"D:/work/python/hello.txt\",\"w\")\n",
    "for i in range(1,11):\n",
    "    data=\"%d번째 줄입니당.\\n\" %i\n",
    "    f.write(data)\n",
    "f.close()"
   ]
  },
  {
   "cell_type": "code",
   "execution_count": 6,
   "metadata": {},
   "outputs": [
    {
     "name": "stdout",
     "output_type": "stream",
     "text": [
      "1번째 줄입니당.\n",
      "2번째 줄입니당.\n",
      "3번째 줄입니당.\n",
      "4번째 줄입니당.\n",
      "5번째 줄입니당.\n",
      "6번째 줄입니당.\n",
      "7번째 줄입니당.\n",
      "8번째 줄입니당.\n",
      "9번째 줄입니당.\n",
      "10번째 줄입니당.\n"
     ]
    }
   ],
   "source": [
    "f=open(\"file1.txt\",\"r\")\n",
    "while True:\n",
    "    line=f.readline()\n",
    "    if not line: break\n",
    "    print(line,end='')\n",
    "f.close()"
   ]
  },
  {
   "cell_type": "code",
   "execution_count": 17,
   "metadata": {},
   "outputs": [],
   "source": [
    "#csv 형식으로 저장\n",
    "import sys\n",
    "num=[0,1,2,3,4,5,6,7,8,9]\n",
    "count=len(num)\n",
    "output_file=\"d:/work/python/result.csv\"\n",
    "f=open(output_file,'a')\n",
    "for idx in range(count):\n",
    "    if idx<(count-1):\n",
    "        f.write(str(num[idx])+\",\")\n",
    "    else:\n",
    "        f.write(str(num[idx])+\"\\n\")\n",
    "f.close()"
   ]
  },
  {
   "cell_type": "code",
   "execution_count": 25,
   "metadata": {},
   "outputs": [
    {
     "name": "stdout",
     "output_type": "stream",
     "text": [
      "<class 'list'>\n",
      "<class 'str'>\n",
      "['0,1,2,3,4,5,6,7,8,0,1,2,3,4,5,6,7,8,9\\n', '0,1,2,3,4,5,6,7,8,9\\n', '0,1,2,3,4,5,6,7,8,9\\n']\n",
      "\n"
     ]
    }
   ],
   "source": [
    "f=open(\"d:/work/python/result.csv\",\"r\")\n",
    "lines=f.readlines()\n",
    "str_line=f.read()\n",
    "#리스트를 반환\n",
    "print(type(lines))\n",
    "print(type(str_line))\n",
    "\n",
    "print(lines)\n",
    "print(str_line)\n"
   ]
  },
  {
   "cell_type": "code",
   "execution_count": 30,
   "metadata": {},
   "outputs": [
    {
     "name": "stdout",
     "output_type": "stream",
     "text": [
      "1번째 줄입니당.\n",
      "\n",
      "2번째 줄입니당.\n",
      "\n",
      "3번째 줄입니당.\n",
      "\n",
      "4번째 줄입니당.\n",
      "\n",
      "5번째 줄입니당.\n",
      "\n",
      "6번째 줄입니당.\n",
      "\n",
      "7번째 줄입니당.\n",
      "\n",
      "8번째 줄입니당.\n",
      "\n",
      "9번째 줄입니당.\n",
      "\n",
      "10번째 줄입니당.\n",
      "\n",
      "['1번째 줄입니당.\\n', '2번째 줄입니당.\\n', '3번째 줄입니당.\\n', '4번째 줄입니당.\\n', '5번째 줄입니당.\\n', '6번째 줄입니당.\\n', '7번째 줄입니당.\\n', '8번째 줄입니당.\\n', '9번째 줄입니당.\\n', '10번째 줄입니당.\\n']\n"
     ]
    }
   ],
   "source": [
    "f=open(\"d:/work/python/file1.txt\",\"r\")\n",
    "for line in f:\n",
    "    print(line)\n",
    "f.close()\n",
    "    # 파일 포인터 f가 for문을 돌면서 line을 출력\n",
    "#혹은 리스트 함수에 저장\n",
    "f=open(\"d:/work/python/file1.txt\",\"r\")\n",
    "f_list=list(f) #내부적으로 반복문이 돌아가고있음\n",
    "print(f_list)\n",
    "f.close()"
   ]
  },
  {
   "cell_type": "code",
   "execution_count": null,
   "metadata": {},
   "outputs": [],
   "source": []
  }
 ],
 "metadata": {
  "kernelspec": {
   "display_name": "Python 3",
   "language": "python",
   "name": "python3"
  },
  "language_info": {
   "codemirror_mode": {
    "name": "ipython",
    "version": 3
   },
   "file_extension": ".py",
   "mimetype": "text/x-python",
   "name": "python",
   "nbconvert_exporter": "python",
   "pygments_lexer": "ipython3",
   "version": "3.6.5"
  }
 },
 "nbformat": 4,
 "nbformat_minor": 2
}
