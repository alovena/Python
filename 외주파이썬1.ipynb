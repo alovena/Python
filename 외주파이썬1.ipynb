{
 "cells": [
  {
   "cell_type": "code",
   "execution_count": 26,
   "metadata": {},
   "outputs": [
    {
     "name": "stdout",
     "output_type": "stream",
     "text": [
      "3.19\n",
      "Ann\n",
      "84\n",
      "78\n",
      "Ann won 51.85 % of the games\n"
     ]
    }
   ],
   "source": [
    "name_of_player=input()\n",
    "number_of_won_games=input()\n",
    "number_of_lost_games=input()\n",
    "result=int(number_of_won_games)/(int(number_of_won_games)+int(number_of_lost_games))*(100)\n",
    "#{0.}는 형식에 맞게 출력이고 마지막에 round함수써서 2째자리까지 반올림했어요\n",
    "print(\"Ann won {0} % of the games\".format(round(result,2)))\n",
    " \n"
   ]
  },
  {
   "cell_type": "code",
   "execution_count": 44,
   "metadata": {
    "scrolled": true
   },
   "outputs": [
    {
     "name": "stdout",
     "output_type": "stream",
     "text": [
      "Hello\n",
      "The number of A or a :0\n",
      "The number of E or e :1\n",
      "The number of I or i :0\n",
      "The number of O or o :1\n",
      "The number of U or U :0\n"
     ]
    }
   ],
   "source": [
    "string_input=input()\n",
    "a=0\n",
    "e=0\n",
    "i=0\n",
    "o=0\n",
    "u=0\n",
    "a =string_input.count('a')+string_input.count('A')\n",
    "e =string_input.count('e')+string_input.count('E')\n",
    "i =string_input.count('i')+string_input.count('I')\n",
    "o =string_input.count('o')+string_input.count('O')\n",
    "u =string_input.count('u')+string_input.count('U')\n",
    "print(\"The number of A or a :{0}\".format(a))\n",
    "print(\"The number of E or e :{0}\".format(e))\n",
    "print(\"The number of I or i :{0}\".format(i))\n",
    "print(\"The number of O or o :{0}\".format(o))\n",
    "print(\"The number of U or U :{0}\".format(u))\n"
   ]
  },
  {
   "cell_type": "code",
   "execution_count": 52,
   "metadata": {},
   "outputs": [
    {
     "name": "stdout",
     "output_type": "stream",
     "text": [
      "Ann\n",
      "94\n",
      "87\n",
      "76\n",
      "Player\t|\tMath\t|\tEnglish\t|\tScience\t|\tAverage\n",
      "Ann\t|\t94\t|\t87\t|\t76\t|\t85.67\n"
     ]
    }
   ],
   "source": [
    "name_of_student=input()\n",
    "Math_score=input()\n",
    "English_score=input()\n",
    "Science_score=input()\n",
    "result=(int(Science_score)+int(English_score)+int(Math_score))/3\n",
    "print(\"Player\\t|\\tMath\\t|\\tEnglish\\t|\\tScience\\t|\\tAverage\")\n",
    "# \\t 는 개행문자로 띄어쓰기입니다. {0..4}는 형식에 맞게 출력이고 마지막에 round함수써서 2째자리까지 반올림했어요\n",
    "print(\"{0}\\t|\\t{1}\\t|\\t{2}\\t|\\t{3}\\t|\\t{4}\".format(name_of_student,int(Math_score),int(English_score),int(Science_score),round(result,2)))"
   ]
  },
  {
   "cell_type": "code",
   "execution_count": null,
   "metadata": {},
   "outputs": [],
   "source": []
  },
  {
   "cell_type": "code",
   "execution_count": null,
   "metadata": {},
   "outputs": [],
   "source": []
  },
  {
   "cell_type": "code",
   "execution_count": null,
   "metadata": {},
   "outputs": [],
   "source": []
  }
 ],
 "metadata": {
  "kernelspec": {
   "display_name": "Python 3",
   "language": "python",
   "name": "python3"
  },
  "language_info": {
   "codemirror_mode": {
    "name": "ipython",
    "version": 3
   },
   "file_extension": ".py",
   "mimetype": "text/x-python",
   "name": "python",
   "nbconvert_exporter": "python",
   "pygments_lexer": "ipython3",
   "version": "3.6.5"
  }
 },
 "nbformat": 4,
 "nbformat_minor": 2
}
