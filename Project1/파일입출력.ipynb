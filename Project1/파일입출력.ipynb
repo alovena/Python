{
 "cells": [
  {
   "cell_type": "code",
   "execution_count": 23,
   "metadata": {},
   "outputs": [
    {
     "name": "stdout",
     "output_type": "stream",
     "text": [
      "현재 경로는 : D:\\Programing\\python(Jupyter)\n",
      "파일경로를 입력하여 주세요.:./\n",
      "file1.txt\n",
      "hello.txt\n",
      "poem.txt\n",
      "untitled.txt\n"
     ]
    }
   ],
   "source": [
    "import os\n",
    "import re\n",
    "print (\"현재 경로는 :\",os.getcwd())\n",
    "path_dir=input(\"파일경로를 입력하여 주세요.:\")\n",
    "#path_dir='./'\n",
    "try:\n",
    "    file_list=os.listdir(path_dir)\n",
    "    file_list.sort()\n",
    "    for find_txt in file_list :\n",
    "        if find_txt.rfind('.txt') is not -1:\n",
    "            print(find_txt)\n",
    "except IOError:\n",
    "    print('디렉터리가 일치하지 않습니다')\n"
   ]
  },
  {
   "cell_type": "code",
   "execution_count": null,
   "metadata": {},
   "outputs": [],
   "source": []
  }
 ],
 "metadata": {
  "kernelspec": {
   "display_name": "Python 3",
   "language": "python",
   "name": "python3"
  },
  "language_info": {
   "codemirror_mode": {
    "name": "ipython",
    "version": 3
   },
   "file_extension": ".py",
   "mimetype": "text/x-python",
   "name": "python",
   "nbconvert_exporter": "python",
   "pygments_lexer": "ipython3",
   "version": "3.6.5"
  }
 },
 "nbformat": 4,
 "nbformat_minor": 2
}
