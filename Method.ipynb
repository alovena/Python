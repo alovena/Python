{
 "cells": [
  {
   "cell_type": "code",
   "execution_count": 12,
   "metadata": {},
   "outputs": [
    {
     "name": "stdout",
     "output_type": "stream",
     "text": [
      "수를 입력하세요\n",
      "12\n",
      "3/12=0.25\n"
     ]
    }
   ],
   "source": [
    "import sys\n",
    "print(\"수를 입력하세요\")\n",
    "a=input()\n",
    "if(int(a)==0):\n",
    "    print(\"0은 나눗셈에 이용할 수 없습니다.\")\n",
    "    sys.exit(0)\n",
    "else:\n",
    "    print(\"3/{0}={1}\".format(int(a),3/int(a)))"
   ]
  },
  {
   "cell_type": "code",
   "execution_count": 15,
   "metadata": {},
   "outputs": [
    {
     "name": "stdout",
     "output_type": "stream",
     "text": [
      "ㅊ\n"
     ]
    }
   ],
   "source": [
    "b=input()\n",
    "if(b=='ㅇ'):\n",
    "    print(\"Monday\")"
   ]
  },
  {
   "cell_type": "code",
   "execution_count": 19,
   "metadata": {},
   "outputs": [
    {
     "name": "stdout",
     "output_type": "stream",
     "text": [
      "수를 입력하세요 : \n",
      "12\n",
      "10보다 큰 홀수\n"
     ]
    }
   ],
   "source": [
    "print(\"수를 입력하세요 : \")\n",
    "a=int(input())\n",
    "if(a>10 and a%2==0):\n",
    "    print(\"10보다 큰 홀수\")"
   ]
  },
  {
   "cell_type": "code",
   "execution_count": 22,
   "metadata": {},
   "outputs": [
    {
     "name": "stdout",
     "output_type": "stream",
     "text": [
      "몇 번 반복할까요? : \n",
      "5\n",
      "1회반복\n",
      "2회반복\n",
      "3회반복\n",
      "4회반복\n",
      "5회반복\n",
      "\n"
     ]
    }
   ],
   "source": [
    "print(\"몇 번 반복할까요? : \")\n",
    "limit=int(input())\n",
    "count=0\n",
    "while count<limit:\n",
    "    count+=1\n",
    "    print(\"{0}회반복\".format(count))\n",
    "print()\n"
   ]
  },
  {
   "cell_type": "code",
   "execution_count": 23,
   "metadata": {},
   "outputs": [
    {
     "name": "stdout",
     "output_type": "stream",
     "text": [
      "반복문을 계속할까요? [예/아니오] : \n",
      "예\n",
      "반복을 계속합니다.\n",
      "반복문을 계속할까요? [예/아니오] : \n",
      "예\n",
      "반복을 계속합니다.\n",
      "반복문을 계속할까요? [예/아니오] : \n",
      "아니오\n",
      "반복을 종료합니다.\n"
     ]
    }
   ],
   "source": [
    "while True:\n",
    "    print(\"반복문을 계속할까요? [예/아니오] : \")\n",
    "    c=input()\n",
    "    if(c=='예'):\n",
    "        print(\"반복을 계속합니다.\")\n",
    "    elif(c==\"아니오\"):\n",
    "        print(\"반복을 종료합니다.\")\n",
    "        break\n",
    "    else:\n",
    "        print(\"오류입니다.\")"
   ]
  },
  {
   "cell_type": "code",
   "execution_count": 24,
   "metadata": {},
   "outputs": [
    {
     "name": "stdout",
     "output_type": "stream",
     "text": [
      "1\n",
      "2\n",
      "3\n"
     ]
    }
   ],
   "source": [
    "for i in (1,2,3):\n",
    "    print(i)"
   ]
  },
  {
   "cell_type": "code",
   "execution_count": 27,
   "metadata": {},
   "outputs": [
    {
     "name": "stdout",
     "output_type": "stream",
     "text": [
      "뇌를\n",
      "자극\n",
      "하는\n",
      "파이썬\n"
     ]
    }
   ],
   "source": [
    "for s in ['뇌를','자극','하는','파이썬']:\n",
    "    print(s)"
   ]
  },
  {
   "cell_type": "code",
   "execution_count": 32,
   "metadata": {},
   "outputs": [
    {
     "name": "stdout",
     "output_type": "stream",
     "text": [
      "*****\n",
      "****\n",
      "***\n",
      "**\n",
      "*\n"
     ]
    }
   ],
   "source": [
    "for i in range(5):\n",
    "    for j in range(5-i):\n",
    "        print(\"*\",end=\"\")\n",
    "    print()"
   ]
  },
  {
   "cell_type": "code",
   "execution_count": 31,
   "metadata": {},
   "outputs": [
    {
     "name": "stdout",
     "output_type": "stream",
     "text": [
      "bbbb\n"
     ]
    }
   ],
   "source": [
    "a=0\n",
    "if a:\n",
    "    print(\"aaa\")\n",
    "else:\n",
    "    print(\"bbbb\")"
   ]
  },
  {
   "cell_type": "code",
   "execution_count": 33,
   "metadata": {},
   "outputs": [],
   "source": [
    "def ppp():\n",
    "    print(\"Hello world!\")"
   ]
  },
  {
   "cell_type": "code",
   "execution_count": 34,
   "metadata": {},
   "outputs": [
    {
     "name": "stdout",
     "output_type": "stream",
     "text": [
      "Hello world!\n"
     ]
    }
   ],
   "source": [
    "ppp()"
   ]
  },
  {
   "cell_type": "code",
   "execution_count": 40,
   "metadata": {},
   "outputs": [],
   "source": [
    "def Abs(n):\n",
    "    if(n<0):\n",
    "        result=-n\n",
    "    elif(n>=0):\n",
    "        result=n\n",
    "    return result"
   ]
  },
  {
   "cell_type": "code",
   "execution_count": 41,
   "metadata": {},
   "outputs": [
    {
     "name": "stdout",
     "output_type": "stream",
     "text": [
      "5\n"
     ]
    }
   ],
   "source": [
    "print(Abs(-5))"
   ]
  },
  {
   "cell_type": "code",
   "execution_count": 42,
   "metadata": {},
   "outputs": [
    {
     "name": "stdout",
     "output_type": "stream",
     "text": [
      "0\n"
     ]
    }
   ],
   "source": [
    "print(Abs(0))"
   ]
  },
  {
   "cell_type": "code",
   "execution_count": 43,
   "metadata": {},
   "outputs": [],
   "source": [
    "def print_string(text,count=1):\n",
    "    for i in range(count):\n",
    "        print(text)"
   ]
  },
  {
   "cell_type": "code",
   "execution_count": 45,
   "metadata": {},
   "outputs": [
    {
     "name": "stdout",
     "output_type": "stream",
     "text": [
      "heloo\n",
      "heloo\n",
      "What your name\n"
     ]
    }
   ],
   "source": [
    "print_string(\"heloo\",2)\n",
    "print_string(\"What your name\")"
   ]
  },
  {
   "cell_type": "code",
   "execution_count": 48,
   "metadata": {},
   "outputs": [],
   "source": [
    "def print_personnel(name,position='staff',nationality=\"ROK\"):\n",
    "    print(\"name={0}\".format(name))\n",
    "    print(\"position={0}\".format(position))\n",
    "    print(\"nationality={0}\".format(nationality))"
   ]
  },
  {
   "cell_type": "code",
   "execution_count": 49,
   "metadata": {},
   "outputs": [
    {
     "name": "stdout",
     "output_type": "stream",
     "text": [
      "name=박상현\n",
      "position=staff\n",
      "nationality=ROK\n"
     ]
    }
   ],
   "source": [
    "print_personnel(\"박상현\")"
   ]
  },
  {
   "cell_type": "code",
   "execution_count": 50,
   "metadata": {},
   "outputs": [
    {
     "name": "stdout",
     "output_type": "stream",
     "text": [
      "name=박상현\n",
      "position=인턴\n",
      "nationality=ROK\n"
     ]
    }
   ],
   "source": [
    "print_personnel(\"박상현\",\"인턴\")"
   ]
  },
  {
   "cell_type": "code",
   "execution_count": 54,
   "metadata": {},
   "outputs": [],
   "source": [
    "def some_func(count):\n",
    "    if count>0:\n",
    "        some_func(count-1)\n",
    "    print(count)"
   ]
  },
  {
   "cell_type": "code",
   "execution_count": 55,
   "metadata": {},
   "outputs": [
    {
     "name": "stdout",
     "output_type": "stream",
     "text": [
      "0\n",
      "1\n",
      "2\n",
      "3\n",
      "4\n",
      "5\n"
     ]
    }
   ],
   "source": [
    "some_func(5)"
   ]
  },
  {
   "cell_type": "code",
   "execution_count": null,
   "metadata": {},
   "outputs": [],
   "source": []
  }
 ],
 "metadata": {
  "kernelspec": {
   "display_name": "Python 3",
   "language": "python",
   "name": "python3"
  },
  "language_info": {
   "codemirror_mode": {
    "name": "ipython",
    "version": 3
   },
   "file_extension": ".py",
   "mimetype": "text/x-python",
   "name": "python",
   "nbconvert_exporter": "python",
   "pygments_lexer": "ipython3",
   "version": "3.6.5"
  }
 },
 "nbformat": 4,
 "nbformat_minor": 2
}
