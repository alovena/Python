{
 "cells": [
  {
   "cell_type": "code",
   "execution_count": 1,
   "metadata": {},
   "outputs": [
    {
     "name": "stdout",
     "output_type": "stream",
     "text": [
      "2.6.0\n",
      "3.21.0\n"
     ]
    }
   ],
   "source": [
    "import sqlite3\n",
    "\n",
    "print(sqlite3.version)\n",
    "print(sqlite3.sqlite_version)"
   ]
  },
  {
   "cell_type": "code",
   "execution_count": 4,
   "metadata": {},
   "outputs": [],
   "source": [
    "def create_table():\n",
    "    conn=sqlite3.connect(\"seo.db\")\n",
    "    cursor=conn.cursor()\n",
    "    cursor.execute(\"\"\"\n",
    "    create table if not exists books(title text,published_date text,\n",
    "    publisher text,\n",
    "    pages integer\n",
    "    recommend integer)\n",
    "    \"\"\")\n",
    "    conn.commit()\n",
    "    conn.close()\n",
    "create_table()\n"
   ]
  },
  {
   "cell_type": "code",
   "execution_count": 18,
   "metadata": {},
   "outputs": [],
   "source": [
    "def insert_table():\n",
    "    conn=sqlite3.connect(\"seo.db\")\n",
    "    cursor=conn.cursor()\n",
    "    #cursor.execute(\"insert into books values('java','2018',100,50)\")\n",
    "    sql=\"insert into books values(?,?,?,?)\"\n",
    "    cursor.execute(sql,('python','2018',100,100))\n",
    "    conn.commit()\n",
    "    conn.close()\n",
    "insert_table()"
   ]
  },
  {
   "cell_type": "code",
   "execution_count": 19,
   "metadata": {},
   "outputs": [
    {
     "name": "stdout",
     "output_type": "stream",
     "text": [
      "<class 'list'>\n",
      "3\n",
      "('java', '2018', '100', 50)\n",
      "('python', '2018', '100', 100)\n",
      "('python', '2018', '100', 100)\n"
     ]
    }
   ],
   "source": [
    "def all_books():\n",
    "    conn=sqlite3.connect(\"seo.db\")\n",
    "    cursor=conn.cursor()\n",
    "    cursor.execute(\"select * from books\")\n",
    "    books=cursor.fetchall()\n",
    "    print(type(books))\n",
    "    print(len(books))\n",
    "    for book in books:\n",
    "        print(book)\n",
    "    conn.close()\n",
    "all_books()"
   ]
  },
  {
   "cell_type": "code",
   "execution_count": 24,
   "metadata": {},
   "outputs": [
    {
     "name": "stdout",
     "output_type": "stream",
     "text": [
      "('java', '2018', '100', 50)\n",
      "<class 'tuple'>\n"
     ]
    }
   ],
   "source": [
    "def some_book(number):\n",
    "    conn=sqlite3.connect(\"seo.db\")\n",
    "    cursor=conn.cursor()\n",
    "    cursor.execute(\"select * from books\")\n",
    "    #books=cursor.fetchmany(number)\n",
    "    book=cursor.fetchone()\n",
    "    print(book)\n",
    "    print(type(book))\n",
    "    #for book in books:\n",
    "     #   print(book)\n",
    "    conn.close()\n",
    "some_book(2)"
   ]
  },
  {
   "cell_type": "code",
   "execution_count": 28,
   "metadata": {},
   "outputs": [
    {
     "name": "stdout",
     "output_type": "stream",
     "text": [
      "('java', '2018', '100', 200)\n",
      "<class 'tuple'>\n"
     ]
    }
   ],
   "source": [
    "def update_book():\n",
    "    conn=sqlite3.connect(\"seo.db\")\n",
    "    cursor=conn.cursor()\n",
    "    sql='update books set pages=? where title=?'\n",
    "    cursor.execute(sql,(300,\"python\"))\n",
    "    conn.commit()\n",
    "    conn.close()\n",
    "update_book()\n",
    "some_book(3)"
   ]
  },
  {
   "cell_type": "code",
   "execution_count": null,
   "metadata": {},
   "outputs": [],
   "source": []
  }
 ],
 "metadata": {
  "kernelspec": {
   "display_name": "Python 3",
   "language": "python",
   "name": "python3"
  },
  "language_info": {
   "codemirror_mode": {
    "name": "ipython",
    "version": 3
   },
   "file_extension": ".py",
   "mimetype": "text/x-python",
   "name": "python",
   "nbconvert_exporter": "python",
   "pygments_lexer": "ipython3",
   "version": "3.6.5"
  }
 },
 "nbformat": 4,
 "nbformat_minor": 2
}
